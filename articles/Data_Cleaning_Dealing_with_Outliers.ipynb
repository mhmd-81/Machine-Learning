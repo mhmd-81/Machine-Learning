{
  "nbformat": 4,
  "nbformat_minor": 0,
  "metadata": {
    "colab": {
      "provenance": []
    },
    "kernelspec": {
      "name": "python3",
      "display_name": "Python 3"
    },
    "language_info": {
      "name": "python"
    }
  },
  "cells": [
    {
      "cell_type": "markdown",
      "source": [
        "***Authors:*** Mahdi Rafati, Mohammad Amin Alemohammad\n",
        "\n",
        "----"
      ],
      "metadata": {
        "id": "Ic8UALxmNS9E"
      }
    },
    {
      "cell_type": "markdown",
      "source": [
        "## **Introduction**\n",
        "An important first step in Data Science and Machine Learning is cleaning up your data. This includes identifying and removing data points that may be due to errors in data collection, or other factors that could lead us to make erroneous conclusions about the data. A group of these data points that we deal with are called `outliers`. There are some methods to find outliers such as `Tukey's method` and `Standard Scores`.<br>\n",
        "In the first notebook of this article, we will learn Tukey's method to find outliers.<br>At the second part, we will introduce a visualization chart known as `Boxplot` (or `Box and Whiskers chart`) which use this method behind the scene to find outliers. So let's dive in.\n",
        "\n",
        "> <span style=\"color: #d1001f;\">***Note:***</span> Initially, we will explore the mathematical aspects to understand their workings, and subsequently, we will utilize some libraries for implementing them.\n"
      ],
      "metadata": {
        "id": "FcHWkuRYMP72"
      }
    },
    {
      "cell_type": "markdown",
      "source": [
        "## **What are Outliers?**\n",
        "Outliers are stragglers — extremely high or extremely low values — in a data set that can throw off your stats. For example, if you were measuring children's nose length, your average value might be thrown off if Pinocchio was in the class. They are data points that are “significantly different” from the majority of data points in a data set.<br>\n",
        "> For instance, In this set of random numbers, 1 and 201 are outliers:<br>\n",
        "`{1, 99, 100, 101, 103, 109, 110, 201}`<br>\n",
        "`“1”` is an extremely low value and `“201”` is an extremely high value.\n",
        "\n",
        "Of course, trying to find outliers isn’t always that simple. Your data set may look like this:<br>\n",
        "`61, 10, 32, 19, 22, 29, 36, 14, 49, 3`.\n",
        "You could guess that `3` might be an outlier and perhaps 61. But you’d be wrong: `61` is the only outlier in this data set."
      ],
      "metadata": {
        "id": "JK7ZjnlBfvX6"
      }
    },
    {
      "cell_type": "code",
      "source": [
        "# Importing required libreries\n",
        "import numpy as np\n",
        "import pandas as pd\n",
        "import matplotlib.pyplot as plt\n",
        "import seaborn as sns\n",
        "sns.set()"
      ],
      "metadata": {
        "id": "sWOX_uoJVsR6"
      },
      "execution_count": null,
      "outputs": []
    },
    {
      "cell_type": "markdown",
      "source": [
        "First, We will generate a random normal distributed set of numbers. We are going to find outliers on this dataset and eliminate them.\n",
        "> <span style=\"color: #4a9d05;\">***Appendix:***</span> We will use the same method on a real dataset from a CSV file to find them."
      ],
      "metadata": {
        "id": "k42vS36vWPs_"
      }
    },
    {
      "cell_type": "code",
      "source": [
        "np.random.seed(42) # Will Generate same array everytime\n",
        "arr = np.random.normal(loc=60, scale=20, size=100) # Generate an array of 100 numbers with mean of 60 and standard deviation of 20\n",
        "arr = np.round(arr,0) # Round numbers to avoid float numbers\n",
        "arr"
      ],
      "metadata": {
        "id": "nrBUQXppWz7c",
        "colab": {
          "base_uri": "https://localhost:8080/"
        },
        "outputId": "6dfe49ff-b5ff-4ac6-9db4-83b01e7869cb"
      },
      "execution_count": null,
      "outputs": [
        {
          "output_type": "execute_result",
          "data": {
            "text/plain": [
              "array([70., 57., 73., 90., 55., 55., 92., 75., 51., 71., 51., 51., 65.,\n",
              "       22., 26., 49., 40., 66., 42., 32., 89., 55., 61., 32., 49., 62.,\n",
              "       37., 68., 48., 54., 48., 97., 60., 39., 76., 36., 64., 21., 33.,\n",
              "       64., 75., 63., 58., 54., 30., 46., 51., 81., 67., 25., 66., 52.,\n",
              "       46., 72., 81., 79., 43., 54., 67., 80., 50., 56., 38., 36., 76.,\n",
              "       87., 59., 80., 67., 47., 67., 91., 59., 91.,  8., 76., 62., 54.,\n",
              "       62., 20., 56., 67., 90., 50., 44., 50., 78., 67., 49., 70., 62.,\n",
              "       79., 46., 53., 52., 31., 66., 65., 60., 55.])"
            ]
          },
          "metadata": {},
          "execution_count": 15
        }
      ]
    },
    {
      "cell_type": "markdown",
      "source": [
        "We can create a Pandas Series object with this array, but they operate much like a Numpy array."
      ],
      "metadata": {
        "id": "UEdwvYO-F_o6"
      }
    },
    {
      "cell_type": "code",
      "source": [
        "ages = pd.Series(arr, dtype='int64', name='Age') # Make a Pandas Serie\n",
        "ages"
      ],
      "metadata": {
        "id": "CgxUBfzBZApQ",
        "colab": {
          "base_uri": "https://localhost:8080/"
        },
        "outputId": "0cf0462d-49d2-4e6b-c4e3-4719910ef5be"
      },
      "execution_count": null,
      "outputs": [
        {
          "output_type": "execute_result",
          "data": {
            "text/plain": [
              "0     70\n",
              "1     57\n",
              "2     73\n",
              "3     90\n",
              "4     55\n",
              "      ..\n",
              "95    31\n",
              "96    66\n",
              "97    65\n",
              "98    60\n",
              "99    55\n",
              "Name: Age, Length: 100, dtype: int64"
            ]
          },
          "metadata": {},
          "execution_count": 16
        }
      ]
    },
    {
      "cell_type": "markdown",
      "source": [
        "## **Tukey's Method**\n",
        "Tukey's rule says that the outliers are values more than 1.5 times the *Interquartile Range (IQR)* from the *quartiles*, either below `Q1 − 1.5 * IQR`, or above `Q3 + 1.5 * IQR`.<br>\n",
        "Here, `Q1`  is the first quartile, and `Q3` is the third quartile in our normal distributed set of numbers.<br>We will use these as part of writing a function to identify outliers according to Tukey's rule."
      ],
      "metadata": {
        "id": "1VoU40Mom00y"
      }
    },
    {
      "cell_type": "markdown",
      "source": [
        "Now let's calculate the first and the third quartiles of our series. This will help us to see how much of our data is less than 25% (Q1) and how much is less than 75% (Q3).\n",
        "By calculating and comparing Q1 and Q3, you can get an idea of the spread and central tendency of your data. We do this by using the Numpy `percentile()` function by giving it our series and the q-th percentile we want.\n",
        "> <span style=\"color: #e69b00;\">***Reminder:***</span> Second quartile (Q2) is the mean of the given set of numbers."
      ],
      "metadata": {
        "id": "6tvr4YbPa7Ow"
      }
    },
    {
      "cell_type": "code",
      "source": [
        "Q1 = np.percentile(ages, 25)\n",
        "Q3 = np.percentile(ages, 75)\n",
        "print('1st Quartile:', Q1)\n",
        "print('2nd Quartile:', Q3)"
      ],
      "metadata": {
        "id": "jU2zNCrkb8fF",
        "colab": {
          "base_uri": "https://localhost:8080/"
        },
        "outputId": "6e013578-2b84-411f-897e-24049bf4c4f3"
      },
      "execution_count": null,
      "outputs": [
        {
          "output_type": "stream",
          "name": "stdout",
          "text": [
            "1st Quartile: 48.0\n",
            "2nd Quartile: 68.5\n"
          ]
        }
      ]
    },
    {
      "cell_type": "markdown",
      "source": [
        "### **What is IQR?**\n",
        "**IQR** stands for *Interquartile Range*. The IQR contains the middle bulk of your data, so outliers can be easily found once you know the IQR.\n",
        "It is calculated as the difference between the third quartile (Q3) and the first quartile (Q1).<br>The formula is:\n",
        "> ### IQR = Q3 - Q1"
      ],
      "metadata": {
        "id": "DjWRSKmH0YNe"
      }
    },
    {
      "cell_type": "code",
      "source": [
        "IQR = Q3 - Q1\n",
        "IQR"
      ],
      "metadata": {
        "id": "kHng3XSF09qP",
        "colab": {
          "base_uri": "https://localhost:8080/"
        },
        "outputId": "734ae1fe-2492-4f44-ad2c-d71fb3dd1c17"
      },
      "execution_count": null,
      "outputs": [
        {
          "output_type": "execute_result",
          "data": {
            "text/plain": [
              "20.5"
            ]
          },
          "metadata": {},
          "execution_count": 18
        }
      ]
    },
    {
      "cell_type": "markdown",
      "source": [
        "### **Upper fence & Lower fence**\n",
        "Upper and lower fences cordon off outliers from the bulk of data in a set. Fences are usually found with the following formulas:\n",
        "> Upper fence = Q3 + (1.5 * IQR)<br>\n",
        "  Lower fence = Q1 – (1.5 * IQR)\n",
        "\n",
        "As you see we use IQR in formula as well so it is necessary to calculate IQR, 1st quartile, and the 3rd quartile:"
      ],
      "metadata": {
        "id": "xZzIqRhk3OJQ"
      }
    },
    {
      "cell_type": "code",
      "source": [
        "upper_fence = Q3 + (1.5 * IQR)\n",
        "lower_fence= Q1 - (1.5 * IQR)\n",
        "print('Lower fence:', lower_fence)\n",
        "print('Upper fence:', upper_fence)"
      ],
      "metadata": {
        "id": "DfvpsEgY5L9U",
        "colab": {
          "base_uri": "https://localhost:8080/"
        },
        "outputId": "5db1edd8-4b28-4455-bad9-60f41a1993ad"
      },
      "execution_count": null,
      "outputs": [
        {
          "output_type": "stream",
          "name": "stdout",
          "text": [
            "Lower fence: 17.25\n",
            "Upper fence: 99.25\n"
          ]
        }
      ]
    },
    {
      "cell_type": "markdown",
      "source": [
        "### **Finding outlier data points**\n",
        "We performed these calculations to identify any potential outliers in our dataset. Now, with a concise command and condition, we can efficiently determine the outlier data points."
      ],
      "metadata": {
        "id": "ArDubb3u8eiO"
      }
    },
    {
      "cell_type": "code",
      "source": [
        "outlier_data = [x for x in ages if x <= lower_fence or x>= upper_fence]\n",
        "outlier_data"
      ],
      "metadata": {
        "id": "q36Kc2aBOPRK",
        "colab": {
          "base_uri": "https://localhost:8080/"
        },
        "outputId": "9856e757-3626-4123-b045-c0c0e7136493"
      },
      "execution_count": null,
      "outputs": [
        {
          "output_type": "execute_result",
          "data": {
            "text/plain": [
              "[8]"
            ]
          },
          "metadata": {},
          "execution_count": 20
        }
      ]
    },
    {
      "cell_type": "code",
      "source": [
        "# Showing the index and type of every outlier\n",
        "for num in outlier_data:\n",
        "  print(ages[ages == 8].index.values[0], type(num))"
      ],
      "metadata": {
        "id": "NQRZ-Mb8OgJx",
        "colab": {
          "base_uri": "https://localhost:8080/"
        },
        "outputId": "9ff67f4f-6eba-4b5f-a8dd-99011f2e8b80"
      },
      "execution_count": null,
      "outputs": [
        {
          "output_type": "stream",
          "name": "stdout",
          "text": [
            "74 <class 'int'>\n"
          ]
        }
      ]
    },
    {
      "cell_type": "markdown",
      "source": [
        "## **Plotting the data**\n",
        "Now let's plot our data to see how data shows up with the outilers. For this matter, we use box plot. In a box plot, the IQR is the “box”, and 1.5 IQR are the extent of the “whiskers” in each direction from the median (The whiskers are Upper and Lower fences). In box plots, outliers are represented as individual points in the plot, beyond the whiskers.\n"
      ],
      "metadata": {
        "id": "4dMq9WqiQx4g"
      }
    },
    {
      "cell_type": "code",
      "source": [
        "plt.boxplot(ages)\n",
        "plt.show"
      ],
      "metadata": {
        "id": "f1g6omqQTJGP",
        "colab": {
          "base_uri": "https://localhost:8080/",
          "height": 452
        },
        "outputId": "050ff6f5-267b-4744-cd88-db6231b1fd9a"
      },
      "execution_count": null,
      "outputs": [
        {
          "output_type": "execute_result",
          "data": {
            "text/plain": [
              "<function matplotlib.pyplot.show(close=None, block=None)>"
            ]
          },
          "metadata": {},
          "execution_count": 22
        },
        {
          "output_type": "display_data",
          "data": {
            "text/plain": [
              "<Figure size 640x480 with 1 Axes>"
            ],
            "image/png": "[encoded data removed]"
          },
          "metadata": {}
        }
      ]
    },
    {
      "cell_type": "markdown",
      "source": [
        "## **Conclusion**\n",
        "We just saw a small part of the ML preprocessing ocean. Outliers are a problem because they have disproportionate leverage on statistical properties of the data, such as the mean and variance. Cleaning your data from outliers could enhance your model's learning process. So try to use this method to make your data **cleaner**."
      ],
      "metadata": {
        "id": "kXQnZiv0TS2r"
      }
    },
    {
      "cell_type": "markdown",
      "source": [
        "## **Thanks!**\n",
        "Thank you for coming so far in this notebook. We hope you've learned something today.<br>\n",
        "In the second part of this article,, we will show more about box plot and see different usages of it on a real dataset.\n",
        "\n",
        " You can follow our LinkedIn for more learning. We will share our knowledge with you.\n",
        " [Mohammad Amin Alemohammad](https://linkedin.com/in/aminalemohammad), [Mahdi Rafati](https://linkedin.com/in/mahdi-rafati-97420a197)"
      ],
      "metadata": {
        "id": "b31WuI-khrzK"
      }
    }
  ]
}